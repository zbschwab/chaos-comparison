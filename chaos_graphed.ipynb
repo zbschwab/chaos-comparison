{
 "cells": [
  {
   "cell_type": "markdown",
   "id": "9ad8c994",
   "metadata": {},
   "source": [
    "via c->python socket"
   ]
  },
  {
   "cell_type": "code",
   "execution_count": 1,
   "id": "a5a81a8a",
   "metadata": {},
   "outputs": [],
   "source": [
    "import socket\n",
    "import struct\n",
    "import numpy as np\n",
    "import matplotlib.pyplot as plt"
   ]
  },
  {
   "cell_type": "code",
   "execution_count": 3,
   "id": "285871da",
   "metadata": {},
   "outputs": [],
   "source": [
    "def recieve_doubles(conn):\n",
    "    # Step 1: Read the 8-byte size_t header\n",
    "    len_bytes = conn.recv(8)\n",
    "    if len(len_bytes) < 8:\n",
    "        raise ConnectionError(\"Incomplete size header received\")\n",
    "\n",
    "    total_bytes_to_receive = struct.unpack('Q', len_bytes)[0]\n",
    "\n",
    "    # Step 2: Handle empty payload\n",
    "    if total_bytes_to_receive == 0:\n",
    "        return np.array([], dtype=np.float64)\n",
    "\n",
    "    # Step 3: Read the payload (raw binary double array)\n",
    "    data = bytearray()\n",
    "    while len(data) < total_bytes_to_receive:\n",
    "        packet = conn.recv(total_bytes_to_receive - len(data))\n",
    "        if not packet:\n",
    "            raise ConnectionError(\"Socket connection closed before receiving all data\")\n",
    "        data.extend(packet)\n",
    "\n",
    "    # Step 4: Convert to NumPy float64 array\n",
    "    return np.frombuffer(data, dtype=np.float64)"
   ]
  },
  {
   "cell_type": "code",
   "execution_count": 6,
   "id": "ea32232c",
   "metadata": {},
   "outputs": [
    {
     "name": "stdout",
     "output_type": "stream",
     "text": [
      "Connection from ('127.0.0.1', 62443)\n",
      "Sending confirmation...\n",
      "Server connection closed.\n"
     ]
    }
   ],
   "source": [
    "def server_program():\n",
    "    host = '127.0.0.1'  # localhost\n",
    "    port = 8080\n",
    "    \n",
    "    # get instance\n",
    "    server_socket = socket.socket(socket.AF_INET, socket.SOCK_STREAM)\n",
    "    server_socket.setsockopt(socket.SOL_SOCKET, socket.SO_REUSEADDR, 1)\n",
    "    server_socket.bind((host, port))\n",
    "    \n",
    "    # set number of clients server can listen to simultaneously\n",
    "    server_socket.listen(1)\n",
    "    conn, address = server_socket.accept()\n",
    "    print(f\"Connection from {address}\")\n",
    "    \n",
    "    arr = recieve_doubles(conn)\n",
    "    print(\"Sending confirmation...\")\n",
    "    conn.sendall(b\"OK\")  # confirm all data recieved\n",
    "    \n",
    "    conn.close()  # close the connection\n",
    "    server_socket.close()\n",
    "    print(\"Server connection closed.\")\n",
    "    \n",
    "    return arr\n",
    "\n",
    "if __name__ == '__main__':\n",
    "    raw_arr = server_program()\n"
   ]
  },
  {
   "cell_type": "markdown",
   "id": "aa47e023",
   "metadata": {},
   "source": [
    "for graphing position/velocity:"
   ]
  },
  {
   "cell_type": "code",
   "execution_count": 3,
   "id": "0a4494ed",
   "metadata": {},
   "outputs": [
    {
     "ename": "NameError",
     "evalue": "name 'raw_arr' is not defined",
     "output_type": "error",
     "traceback": [
      "\u001b[0;31m---------------------------------------------------------------------------\u001b[0m",
      "\u001b[0;31mNameError\u001b[0m                                 Traceback (most recent call last)",
      "Cell \u001b[0;32mIn[3], line 4\u001b[0m\n\u001b[1;32m      1\u001b[0m \u001b[38;5;66;03m# 1D array --> 2D array, every other value in same column\u001b[39;00m\n\u001b[1;32m      2\u001b[0m \u001b[38;5;66;03m# col 0: position, col 1: velocity\u001b[39;00m\n\u001b[0;32m----> 4\u001b[0m arr \u001b[38;5;241m=\u001b[39m np\u001b[38;5;241m.\u001b[39mcolumn_stack((\u001b[43mraw_arr\u001b[49m[::\u001b[38;5;241m2\u001b[39m], raw_arr[\u001b[38;5;241m1\u001b[39m::\u001b[38;5;241m2\u001b[39m]))\n",
      "\u001b[0;31mNameError\u001b[0m: name 'raw_arr' is not defined"
     ]
    }
   ],
   "source": [
    "# 1D array --> 2D array, every other value in same column\n",
    "# col 0: position, col 1: velocity\n",
    "\n",
    "arr = np.column_stack((raw_arr[::2], raw_arr[1::2]))"
   ]
  },
  {
   "cell_type": "markdown",
   "id": "551b5511",
   "metadata": {},
   "source": [
    "for graphing lyapunov exponent convergence:"
   ]
  },
  {
   "cell_type": "code",
   "execution_count": 7,
   "id": "a968b1b0",
   "metadata": {},
   "outputs": [
    {
     "data": {
      "text/plain": [
       "array([[-1.83255065e-06, -1.83255065e-06],\n",
       "       [-1.83255065e-06, -1.83255065e-06],\n",
       "       [-1.83255065e-06, -1.83255065e-06],\n",
       "       ...,\n",
       "       [ 0.00000000e+00,  0.00000000e+00],\n",
       "       [ 0.00000000e+00,  0.00000000e+00],\n",
       "       [ 2.22888509e-01,  5.72579132e+01]])"
      ]
     },
     "execution_count": 7,
     "metadata": {},
     "output_type": "execute_result"
    }
   ],
   "source": [
    "# 1D array --> 2D array, every other value in same column\n",
    "# col 0: lyp estimate, col 1: simulation time\n",
    "\n",
    "arr = np.column_stack((raw_arr[::2], raw_arr[1::2]))\n",
    "arr"
   ]
  },
  {
   "cell_type": "code",
   "execution_count": 8,
   "id": "9adcffc6",
   "metadata": {},
   "outputs": [
    {
     "data": {
      "image/png": "[encoded data removed]",
      "text/plain": [
       "<Figure size 500x400 with 1 Axes>"
      ]
     },
     "metadata": {},
     "output_type": "display_data"
    }
   ],
   "source": [
    "# graph lyp convergence\n",
    "fig, ax = plt.subplots(figsize=(5, 4))\n",
    "plt.plot(arr[:,1], label=(\"time (s)\"))\n",
    "plt.plot(arr[:, 0], label=(\"lyp estimate\"))\n",
    "plt.axhline(y=0.0, color='black', linestyle='dashed')\n",
    "\n",
    "plt.show()"
   ]
  },
  {
   "cell_type": "markdown",
   "id": "6cf25ae4",
   "metadata": {},
   "source": [
    "via csv upload/download"
   ]
  },
  {
   "cell_type": "code",
   "execution_count": null,
   "id": "77fa8e21",
   "metadata": {},
   "outputs": [],
   "source": [
    "import numpy as np\n",
    "import matplotlib as plt"
   ]
  },
  {
   "cell_type": "code",
   "execution_count": null,
   "id": "e966c6a1",
   "metadata": {},
   "outputs": [],
   "source": [
    "# import csv\n",
    "\n",
    "data_lddp = np.loadtxt('lddp_lyp.csv', delimiter=',')\n",
    "data_qddp = np.loadtxt('qddp_lyp.csv', delimiter=',')\n",
    "data_dp = np.loadtxt('dp_lyp.csv', delimiter=',')"
   ]
  },
  {
   "cell_type": "code",
   "execution_count": null,
   "id": "a7e3a62d",
   "metadata": {},
   "outputs": [],
   "source": [
    "# plot linearly-damped driven pendulum\n",
    "\n",
    "fig, ax = plt.subplots()\n",
    "gamma_arr_2 = np.arange(0., 10., 0.01)\n",
    "\n",
    "ax.plot(gamma_arr_2, data_lddp, color = 'blue')\n",
    "plt.axhline(y = 0, color = 'cyan', linestyle = '--')\n",
    "ax.set_xlim(0, 10)\n",
    "ax.set_xlabel('Gamma')\n",
    "ax.set_ylabel('Max Lyapunov Exponent (1/s)')\n",
    "ax.set_title('Max Lyapunov Exponent vs. Gamma for Linearly-Damped Driven Pendulum')\n",
    "\n",
    "plt.show()"
   ]
  },
  {
   "cell_type": "code",
   "execution_count": null,
   "id": "4b181800",
   "metadata": {},
   "outputs": [],
   "source": [
    "# plot quadratically-damped driven pendulum\n",
    "\n",
    "fig, ax = plt.subplots()\n",
    "gamma_arr_2 = np.arange(0., 10., 0.01)\n",
    "\n",
    "ax.plot(gamma_arr_2, data_lddp, color = 'blue')\n",
    "plt.axhline(y = 0, color = 'cyan', linestyle = '--')\n",
    "ax.set_xlim(0, 10)\n",
    "ax.set_xlabel('Gamma')\n",
    "ax.set_ylabel('Max Lyapunov Exponent (1/s)')\n",
    "ax.set_title('Max Lyapunov Exponent vs. Gamma for Linearly-Damped Driven Pendulum')\n",
    "\n",
    "plt.show()"
   ]
  },
  {
   "cell_type": "code",
   "execution_count": null,
   "id": "93ca23f6",
   "metadata": {},
   "outputs": [],
   "source": [
    "# plot double pendulum\n",
    "\n",
    "fig, ax = plt.subplots()\n",
    "theta1_0_arr_2 = np.arange(0, np.pi, 0.001)\n",
    "\n",
    "ax.plot(theta1_0_arr_2, data_dp, color = 'blue')\n",
    "#plt.axhline(y = 0, color = 'cyan', linestyle = '--')\n",
    "\n",
    "ax.set_xlim(0, np.pi)\n",
    "ax.set_xlabel('Theta1_0 (rad)')\n",
    "ax.set_ylabel('Max Lyapunov Exponent (1/s)')\n",
    "ax.set_title('Max Lyapunov Exponent vs. Initial Angle for Double Pendulum')\n",
    "\n",
    "plt.show()"
   ]
  },
  {
   "cell_type": "code",
   "execution_count": null,
   "id": "6c6fc7ef",
   "metadata": {},
   "outputs": [],
   "source": [
    "# dp heatmap\n",
    "\n",
    "# reshape dp results into 2D heatmap for plotting\n",
    "dp_grid = np.array(results3).reshape(N, N)\n",
    "\n",
    "# plot dp\n",
    "vegetables = [\"cucumber\", \"tomato\", \"lettuce\", \"asparagus\",\n",
    "              \"potato\", \"wheat\", \"barley\"]\n",
    "farmers = [\"Farmer Joe\", \"Upland Bros.\", \"Smith Gardening\",\n",
    "           \"Agrifun\", \"Organiculture\", \"BioGoods Ltd.\", \"Cornylee Corp.\"]\n",
    "\n",
    "harvest = np.array([[0.8, 2.4, 2.5, 3.9, 0.0, 4.0, 0.0],\n",
    "                    [2.4, 0.0, 4.0, 1.0, 2.7, 0.0, 0.0],\n",
    "                    [1.1, 2.4, 0.8, 4.3, 1.9, 4.4, 0.0],\n",
    "                    [0.6, 0.0, 0.3, 0.0, 3.1, 0.0, 0.0],\n",
    "                    [0.7, 1.7, 0.6, 2.6, 2.2, 6.2, 0.0],\n",
    "                    [1.3, 1.2, 0.0, 0.0, 0.0, 3.2, 5.1],\n",
    "                    [0.1, 2.0, 0.0, 1.4, 0.0, 1.9, 6.3]])\n",
    "\n",
    "\n",
    "fig, ax = plt.subplots()\n",
    "im = ax.imshow(dp_grid)\n",
    "\n",
    "ax.set_xticks(range(len(theta1_0_arr)), labels=theta1_0_arr,\n",
    "                rotation=45, ha=\"right\", rotation_mode=\"anchor\")\n",
    "ax.set_yticks(range(len(theta2_0_arr)), labels=theta2_0_arr)\n",
    "\n",
    "# Loop over data dimensions and create text annotations.\n",
    "for i in range(len(theta1_0_arr)):\n",
    "    for j in range(len(theta2_0_arr)):\n",
    "        text = ax.text(j, i, harvest[i, j],\n",
    "                        ha=\"center\", va=\"center\", color=\"w\")\n",
    "\n",
    "ax.set_title(\"Max Lyapunov Exponent for Double Pendulum Angles\")\n",
    "fig.tight_layout()\n",
    "plt.show()"
   ]
  }
 ],
 "metadata": {
  "kernelspec": {
   "display_name": "Python 3",
   "language": "python",
   "name": "python3"
  },
  "language_info": {
   "codemirror_mode": {
    "name": "ipython",
    "version": 3
   },
   "file_extension": ".py",
   "mimetype": "text/x-python",
   "name": "python",
   "nbconvert_exporter": "python",
   "pygments_lexer": "ipython3",
   "version": "3.12.0"
  }
 },
 "nbformat": 4,
 "nbformat_minor": 5
}
